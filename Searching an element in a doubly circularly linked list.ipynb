{
 "cells": [
  {
   "cell_type": "code",
   "execution_count": 15,
   "id": "17e69849-dc2a-45a5-a4e0-27bb2cec8b28",
   "metadata": {},
   "outputs": [],
   "source": [
    "class Nodes:\n",
    "    def __init__(self, value):\n",
    "        self.value=value\n",
    "        self.next=None\n",
    "        self.prev=None\n",
    "    \n",
    "class CDLL:\n",
    "    def __init__(self):\n",
    "        self.head=None\n",
    "        self.tail=None\n",
    "        \n",
    "    def creation(self,value):\n",
    "        node=Nodes(value)\n",
    "        self.head=node\n",
    "        self.tail=node\n",
    "        node.next=node\n",
    "        node.prev=node\n",
    "        \n",
    "ob1=CDLL()\n",
    "ob1.creation(0)"
   ]
  },
  {
   "cell_type": "code",
   "execution_count": 16,
   "id": "ad4fc4aa-f07d-4e1b-914b-1da845b8c8f9",
   "metadata": {},
   "outputs": [],
   "source": [
    "def insertion(ob, value, loc):\n",
    "    node=Nodes(value)\n",
    "    \n",
    "    if ob.head==None:\n",
    "        ob.head=node\n",
    "        node.next=node\n",
    "        node.tail=node\n",
    "    \n",
    "    \n",
    "    else:\n",
    "        if loc==0:\n",
    "            temp=ob.head \n",
    "            temp.prev=node\n",
    "            ob.head=node\n",
    "            node.next=temp\n",
    "            ob.tail.next=node\n",
    "            \n",
    "        elif loc==-1:\n",
    "            temp=ob.tail\n",
    "            temp.next=node\n",
    "            node.prev=temp\n",
    "            ob.tail=node\n",
    "            ob.tail.next=ob.head\n",
    "            \n",
    "        else:\n",
    "            i=0\n",
    "            temp=ob.head\n",
    "            while(i<loc-1):\n",
    "                temp=temp.next\n",
    "                i += 1\n",
    "            temp.next.prev=node\n",
    "            node.next= temp.next\n",
    "            temp.next=node\n",
    "            node.prev=temp\n",
    "            "
   ]
  },
  {
   "cell_type": "code",
   "execution_count": 17,
   "id": "10f2f769-c8cf-40fa-9c90-888a34016675",
   "metadata": {},
   "outputs": [],
   "source": [
    "insertion(ob1,1000,2)"
   ]
  },
  {
   "cell_type": "code",
   "execution_count": 18,
   "id": "b4b60d0e-a755-4afc-8f1d-0c46f87631ff",
   "metadata": {},
   "outputs": [],
   "source": [
    "insertion(ob1,1,-1)"
   ]
  },
  {
   "cell_type": "code",
   "execution_count": 19,
   "id": "f30f5c0f-5660-49d9-8a1b-d936a3b0d339",
   "metadata": {},
   "outputs": [],
   "source": [
    "insertion(ob1,10,0)"
   ]
  },
  {
   "cell_type": "code",
   "execution_count": 20,
   "id": "53b74e4d-6e68-41cf-b7d0-60ee96303a1c",
   "metadata": {},
   "outputs": [],
   "source": [
    "insertion(ob1,100,1)"
   ]
  },
  {
   "cell_type": "code",
   "execution_count": 21,
   "id": "9a8b86ad-5db7-4b3a-a6cb-dd897f59bdae",
   "metadata": {},
   "outputs": [],
   "source": [
    "insertion(ob1,101,2)"
   ]
  },
  {
   "cell_type": "code",
   "execution_count": 22,
   "id": "62eb3ae4-58c3-41e9-9c44-db1c2331027c",
   "metadata": {},
   "outputs": [],
   "source": [
    "insertion(ob1,10001,4)"
   ]
  },
  {
   "cell_type": "code",
   "execution_count": 23,
   "id": "0c612229-5e98-424e-8878-1c67b9688216",
   "metadata": {},
   "outputs": [],
   "source": [
    "insertion(ob1,100001,5)"
   ]
  },
  {
   "cell_type": "code",
   "execution_count": 27,
   "id": "8c4a5a90-2c5d-4ed2-b8b7-b32286c3375e",
   "metadata": {},
   "outputs": [],
   "source": [
    "def traversal(ob1):\n",
    "#     temp=ob1.head\n",
    "    if ob1.head==None:\n",
    "        print(\"No elements in the list!\")\n",
    "#     elif: ob1\n",
    "            \n",
    "    else:\n",
    "        print(\"The first node is: \", ob1.head)\n",
    "        print(\"The value at this node is\", ob1.head.value)\n",
    "        temp=ob1.head.next\n",
    "        while(True):\n",
    "            \n",
    "            if temp != ob1.head:\n",
    "                print(\"The next node in the list is: \", temp)\n",
    "#                 if temp==ob1.head:\n",
    "#                     break\n",
    "                print(\"And the value of the node at given position is: \", temp.value)\n",
    "            \n",
    "            else:\n",
    "                break\n",
    "\n",
    "            \n",
    "            \n",
    "            temp=temp.next"
   ]
  },
  {
   "cell_type": "code",
   "execution_count": 28,
   "id": "f7bb94b9-bf34-4177-a7d6-8afbbc59e420",
   "metadata": {},
   "outputs": [
    {
     "name": "stdout",
     "output_type": "stream",
     "text": [
      "The first node is:  <__main__.Nodes object at 0x00000283B2379F10>\n",
      "The value at this node is 10\n",
      "The next node in the list is:  <__main__.Nodes object at 0x00000283B23791C0>\n",
      "And the value of the node at given position is:  100\n",
      "The next node in the list is:  <__main__.Nodes object at 0x00000283B2379850>\n",
      "And the value of the node at given position is:  101\n",
      "The next node in the list is:  <__main__.Nodes object at 0x00000283B2371700>\n",
      "And the value of the node at given position is:  0\n",
      "The next node in the list is:  <__main__.Nodes object at 0x00000283B2379A90>\n",
      "And the value of the node at given position is:  10001\n",
      "The next node in the list is:  <__main__.Nodes object at 0x00000283B23790A0>\n",
      "And the value of the node at given position is:  100001\n",
      "The next node in the list is:  <__main__.Nodes object at 0x00000283B23791F0>\n",
      "And the value of the node at given position is:  1\n"
     ]
    }
   ],
   "source": [
    "traversal(ob1)"
   ]
  },
  {
   "cell_type": "code",
   "execution_count": 29,
   "id": "9906952a-e1ee-45b1-94d1-4e92daf597d2",
   "metadata": {},
   "outputs": [],
   "source": [
    "def reverse_(ob1):\n",
    "    if ob1.head==None:\n",
    "        print(\"There is no element in this list and so we can't traverse this list!\")\n",
    "    \n",
    "    else:\n",
    "        temp= ob1.tail\n",
    "        \n",
    "        while(True):\n",
    "            if temp.prev==None:\n",
    "                print(\"Reached the end of the list!\")\n",
    "                print(\"The last element is: \",temp.value)\n",
    "                break\n",
    "            \n",
    "            else:\n",
    "                \n",
    "                print(\"The prev element in this list is: \", temp.value)\n",
    "                temp= temp.prev"
   ]
  },
  {
   "cell_type": "code",
   "execution_count": 31,
   "id": "c53685db-974d-441c-b40f-b7e7d6029990",
   "metadata": {},
   "outputs": [
    {
     "name": "stdout",
     "output_type": "stream",
     "text": [
      "The prev element in this list is:  1\n",
      "The prev element in this list is:  100001\n",
      "The prev element in this list is:  10001\n",
      "The prev element in this list is:  0\n",
      "The prev element in this list is:  101\n",
      "The prev element in this list is:  100\n",
      "Reached the end of the list!\n",
      "The last element is:  10\n"
     ]
    }
   ],
   "source": [
    "reverse_(ob1)"
   ]
  },
  {
   "cell_type": "code",
   "execution_count": 32,
   "id": "15975b3e-d30e-4878-b0e0-337c877bc121",
   "metadata": {},
   "outputs": [],
   "source": [
    "def search(ob,value):\n",
    "    if ob.head==None:\n",
    "        print(\"No element to find in this list\")\n",
    "    \n",
    "    else:\n",
    "        temp= ob.head\n",
    "        \n",
    "        if temp.value==value:\n",
    "            print(\"The element is found and its value is:\", ob.head.value)\n",
    "            \n",
    "        else:\n",
    "            \n",
    "            while(True):\n",
    "                temp=temp.next\n",
    "                \n",
    "                if temp == ob.head:\n",
    "                    print(\"The value is not found!\")\n",
    "                    break\n",
    "                \n",
    "                if temp.value==value:\n",
    "                    print(\"The element is found and its value is:\", temp.value)\n",
    "                    break"
   ]
  },
  {
   "cell_type": "code",
   "execution_count": 33,
   "id": "de04e72a-f801-42e6-a35b-02d3b3f934a1",
   "metadata": {},
   "outputs": [
    {
     "name": "stdout",
     "output_type": "stream",
     "text": [
      "The value is not found!\n"
     ]
    }
   ],
   "source": [
    "search(ob1,4)"
   ]
  },
  {
   "cell_type": "code",
   "execution_count": 34,
   "id": "59bec4b1-9ae4-438f-864b-aa95f335ea02",
   "metadata": {},
   "outputs": [
    {
     "name": "stdout",
     "output_type": "stream",
     "text": [
      "The value is not found!\n"
     ]
    }
   ],
   "source": [
    "search(ob1,7)"
   ]
  },
  {
   "cell_type": "code",
   "execution_count": 35,
   "id": "2a0ac5c1-eb20-4c63-881e-9a35ddeb2e0b",
   "metadata": {},
   "outputs": [
    {
     "name": "stdout",
     "output_type": "stream",
     "text": [
      "The element is found and its value is: 10001\n"
     ]
    }
   ],
   "source": [
    "search(ob1,10001)"
   ]
  },
  {
   "cell_type": "code",
   "execution_count": null,
   "id": "6c80baf2-8b6c-4772-b8db-8650aceb7bc3",
   "metadata": {},
   "outputs": [],
   "source": []
  }
 ],
 "metadata": {
  "kernelspec": {
   "display_name": "Python 3",
   "language": "python",
   "name": "python3"
  },
  "language_info": {
   "codemirror_mode": {
    "name": "ipython",
    "version": 3
   },
   "file_extension": ".py",
   "mimetype": "text/x-python",
   "name": "python",
   "nbconvert_exporter": "python",
   "pygments_lexer": "ipython3",
   "version": "3.8.5"
  }
 },
 "nbformat": 4,
 "nbformat_minor": 5
}
