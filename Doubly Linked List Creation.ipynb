{
 "cells": [
  {
   "cell_type": "code",
   "execution_count": 15,
   "id": "22320b7e-9ef4-4b15-8d4b-4873540ae72f",
   "metadata": {},
   "outputs": [],
   "source": [
    "class Nodes:\n",
    "    def __init__(self, value):\n",
    "        self.value=value\n",
    "        self.next=None\n",
    "        self.prev=None\n",
    "    \n",
    "class CDLL:\n",
    "    def __init__(self):\n",
    "        self.head=None\n",
    "        self.tail=None\n",
    "        \n",
    "    def creation(self,value):\n",
    "        node=Nodes(value)\n",
    "        self.head=node\n",
    "        self.tail=node\n",
    "        node.next=node\n",
    "        node.prev=node"
   ]
  },
  {
   "cell_type": "code",
   "execution_count": 16,
   "id": "7ee0c93c-666e-4ab5-88b1-113625f6c611",
   "metadata": {},
   "outputs": [],
   "source": [
    "ob1=CDLL()"
   ]
  },
  {
   "cell_type": "code",
   "execution_count": 17,
   "id": "94633339-349b-4c5f-ae61-e2eecf7281c7",
   "metadata": {},
   "outputs": [],
   "source": [
    "ob1.creation(0)"
   ]
  },
  {
   "cell_type": "code",
   "execution_count": 18,
   "id": "86615b1c-8b05-4542-b779-c0c98cb4c981",
   "metadata": {},
   "outputs": [
    {
     "data": {
      "text/plain": [
       "0"
      ]
     },
     "execution_count": 18,
     "metadata": {},
     "output_type": "execute_result"
    }
   ],
   "source": [
    "ob1.head.value"
   ]
  },
  {
   "cell_type": "code",
   "execution_count": 19,
   "id": "cde52427-1c8c-4c53-b467-bc31b155bf9e",
   "metadata": {},
   "outputs": [
    {
     "data": {
      "text/plain": [
       "0"
      ]
     },
     "execution_count": 19,
     "metadata": {},
     "output_type": "execute_result"
    }
   ],
   "source": [
    "ob1.head.next.value"
   ]
  },
  {
   "cell_type": "code",
   "execution_count": 20,
   "id": "a1244741-1984-404c-b89f-2bb8c795bf14",
   "metadata": {},
   "outputs": [
    {
     "data": {
      "text/plain": [
       "0"
      ]
     },
     "execution_count": 20,
     "metadata": {},
     "output_type": "execute_result"
    }
   ],
   "source": [
    "ob1.head.prev.value"
   ]
  },
  {
   "cell_type": "code",
   "execution_count": null,
   "id": "050e5542-4431-4c7c-b5f7-937c9a1164bf",
   "metadata": {},
   "outputs": [],
   "source": []
  }
 ],
 "metadata": {
  "kernelspec": {
   "display_name": "Python 3",
   "language": "python",
   "name": "python3"
  },
  "language_info": {
   "codemirror_mode": {
    "name": "ipython",
    "version": 3
   },
   "file_extension": ".py",
   "mimetype": "text/x-python",
   "name": "python",
   "nbconvert_exporter": "python",
   "pygments_lexer": "ipython3",
   "version": "3.8.5"
  }
 },
 "nbformat": 4,
 "nbformat_minor": 5
}
