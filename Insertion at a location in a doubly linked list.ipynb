{
 "cells": [
  {
   "cell_type": "code",
   "execution_count": 1,
   "id": "926b1034-1fbe-46fc-8bd7-0d7913b14d85",
   "metadata": {},
   "outputs": [],
   "source": [
    "class Nodes:\n",
    "    def __init__(self, value):\n",
    "        self.value=value\n",
    "        self.next=None\n",
    "        self.prev=None\n",
    "    \n",
    "class CDLL:\n",
    "    def __init__(self):\n",
    "        self.head=None\n",
    "        self.tail=None\n",
    "        \n",
    "    def creation(self,value):\n",
    "        node=Nodes(value)\n",
    "        self.head=node\n",
    "        self.tail=node\n",
    "        node.next=node\n",
    "        node.prev=node\n",
    "        \n",
    "ob1=CDLL()\n",
    "ob1.creation(0)"
   ]
  },
  {
   "cell_type": "code",
   "execution_count": 20,
   "id": "a09e5485-37b1-4d3f-87d5-a3a4dc05ab95",
   "metadata": {},
   "outputs": [],
   "source": [
    "def insertion(ob, value, loc):\n",
    "    node=Nodes(value)\n",
    "    \n",
    "    if ob.head==None:\n",
    "        ob.head=node\n",
    "        node.next=node\n",
    "        node.tail=node\n",
    "    \n",
    "    \n",
    "    else:\n",
    "        if loc==0:\n",
    "             \n",
    "            temp.prev=node\n",
    "            ob.head=node\n",
    "            node.next=temp\n",
    "            ob.tail.next=node\n",
    "            \n",
    "        elif loc==-1:\n",
    "            temp=ob.tail\n",
    "            temp.next=node\n",
    "            node.prev=temp\n",
    "            ob.tail=node\n",
    "            ob.tail.next=ob.head\n",
    "            \n",
    "        else:\n",
    "            i=0\n",
    "            temp=ob.head\n",
    "            while(i<loc-1):\n",
    "                temp=temp.next\n",
    "                i += 1\n",
    "            temp.next.prev=node\n",
    "            node.next= temp.next\n",
    "            temp.next=node\n",
    "            node.prev=temp\n",
    "            "
   ]
  },
  {
   "cell_type": "code",
   "execution_count": 24,
   "id": "ada05723-5f0b-4d94-9654-7bfc469802fa",
   "metadata": {},
   "outputs": [],
   "source": [
    "insertion(ob1,1000,2)"
   ]
  },
  {
   "cell_type": "code",
   "execution_count": 27,
   "id": "6dd157b3-c9bc-44bc-b1f5-83ce4b9cd90b",
   "metadata": {},
   "outputs": [
    {
     "data": {
      "text/plain": [
       "100"
      ]
     },
     "execution_count": 27,
     "metadata": {},
     "output_type": "execute_result"
    }
   ],
   "source": [
    "ob1.head.next.next.prev.value"
   ]
  },
  {
   "cell_type": "code",
   "execution_count": 28,
   "id": "684a7752-2db8-4cc7-9d0f-ad4adad12d8d",
   "metadata": {},
   "outputs": [
    {
     "data": {
      "text/plain": [
       "0"
      ]
     },
     "execution_count": 28,
     "metadata": {},
     "output_type": "execute_result"
    }
   ],
   "source": [
    "ob1.tail.value"
   ]
  },
  {
   "cell_type": "code",
   "execution_count": 30,
   "id": "fbb5cb0f-1eaa-481d-83b3-5c073ff1cd1c",
   "metadata": {},
   "outputs": [
    {
     "data": {
      "text/plain": [
       "10"
      ]
     },
     "execution_count": 30,
     "metadata": {},
     "output_type": "execute_result"
    }
   ],
   "source": [
    "ob1.head.value"
   ]
  },
  {
   "cell_type": "code",
   "execution_count": 31,
   "id": "bc27e6f7-6e9d-4529-9a90-061dadac8c8d",
   "metadata": {},
   "outputs": [
    {
     "data": {
      "text/plain": [
       "10"
      ]
     },
     "execution_count": 31,
     "metadata": {},
     "output_type": "execute_result"
    }
   ],
   "source": [
    "ob1.tail.next.value"
   ]
  },
  {
   "cell_type": "code",
   "execution_count": null,
   "id": "bcb1702c-a24e-42ae-99a4-cf5297ce45ea",
   "metadata": {},
   "outputs": [],
   "source": []
  }
 ],
 "metadata": {
  "kernelspec": {
   "display_name": "Python 3",
   "language": "python",
   "name": "python3"
  },
  "language_info": {
   "codemirror_mode": {
    "name": "ipython",
    "version": 3
   },
   "file_extension": ".py",
   "mimetype": "text/x-python",
   "name": "python",
   "nbconvert_exporter": "python",
   "pygments_lexer": "ipython3",
   "version": "3.8.5"
  }
 },
 "nbformat": 4,
 "nbformat_minor": 5
}
